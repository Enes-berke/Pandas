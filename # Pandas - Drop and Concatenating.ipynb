{
 "cells": [
  {
   "cell_type": "code",
   "execution_count": null,
   "id": "f567cd82-3d80-4ba4-9822-1378d085eb78",
   "metadata": {},
   "outputs": [],
   "source": [
    "# Pandas - Filtering Pandas Data Frame"
   ]
  },
  {
   "cell_type": "code",
   "execution_count": null,
   "id": "ae7e9244-4e36-4ecb-9cb9-759386ca4cf6",
   "metadata": {},
   "outputs": [],
   "source": [
    "import pandas as pd"
   ]
  },
  {
   "cell_type": "code",
   "execution_count": null,
   "id": "7af10af2-504e-4790-84c5-f6db13096ad7",
   "metadata": {},
   "outputs": [],
   "source": [
    "\n",
    "dictionary = {\"NAME\":[\"ali\",\"veli\",\"kenan\",\"hilal\",\"ayse\",\"evren\"],\n",
    "              \"AGE\":[15,16,17,33,45,66],\n",
    "              \"MAAS\": [100,150,240,350,110,220]} \n",
    "\n",
    "dataFrame1 = pd.DataFrame(dictionary)"
   ]
  },
  {
   "cell_type": "code",
   "execution_count": null,
   "id": "18defb6d-6e9c-4082-8842-2540e1a5c595",
   "metadata": {},
   "outputs": [],
   "source": [
    "filtre1 = dataFrame1.MAAS > 200\n",
    "print(\"filtre1 ==>\\n\" , filtre1)"
   ]
  },
  {
   "cell_type": "code",
   "execution_count": null,
   "id": "3832cf50-fc88-4174-82d9-3ea7e38e1aa9",
   "metadata": {},
   "outputs": [],
   "source": [
    "\n",
    "filtrelenmis_data = dataFrame1[filtre1]\n",
    "print(\"filtrelenmis_data ==>\\n\" , filtrelenmis_data)"
   ]
  },
  {
   "cell_type": "code",
   "execution_count": null,
   "id": "2da7778c-7e14-46ed-98f2-647b8d7de8de",
   "metadata": {},
   "outputs": [],
   "source": [
    "filtre2 = dataFrame1.AGE <20"
   ]
  },
  {
   "cell_type": "code",
   "execution_count": null,
   "id": "90078d5d-f320-48d0-a570-620911a7236a",
   "metadata": {},
   "outputs": [],
   "source": [
    "dataFrame1[filtre1 & filtre2] # iki filtreyi birleştirme"
   ]
  },
  {
   "cell_type": "code",
   "execution_count": null,
   "id": "49b7ba14-1f90-4d1d-b6ff-917ce61b8346",
   "metadata": {},
   "outputs": [],
   "source": [
    "print(dataFrame1[dataFrame1.AGE > 60])"
   ]
  }
 ],
 "metadata": {
  "kernelspec": {
   "display_name": "Python 3 (ipykernel)",
   "language": "python",
   "name": "python3"
  },
  "language_info": {
   "codemirror_mode": {
    "name": "ipython",
    "version": 3
   },
   "file_extension": ".py",
   "mimetype": "text/x-python",
   "name": "python",
   "nbconvert_exporter": "python",
   "pygments_lexer": "ipython3",
   "version": "3.11.4"
  }
 },
 "nbformat": 4,
 "nbformat_minor": 5
}
