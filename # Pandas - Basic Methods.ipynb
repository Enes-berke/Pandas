{
 "cells": [
  {
   "cell_type": "code",
   "execution_count": 1,
   "id": "e2d65985",
   "metadata": {},
   "outputs": [],
   "source": [
    "import pandas as pd"
   ]
  },
  {
   "cell_type": "code",
   "execution_count": 2,
   "id": "f4ad4dc8",
   "metadata": {},
   "outputs": [],
   "source": [
    "dictionary = {\"İsim\" : (\"Enes\" , \"Alper\" , \"Eren\" , \"Furkan\" , \"Muhammed\" , \"Emirhan\" , \"Ali\"),\n",
    "              \"Yas\" :(19 , 20 , 21 , 19 , 19 , 22 , 18),\n",
    "               \"Maas\" : (1750 , 1700 , 1000 , 1250 , 1400 , 750 , 1500) }\n",
    "\n",
    "DataFrame1 = pd.DataFrame(dictionary)\n",
    "\n",
    "head = DataFrame1.head() \n",
    "tail = DataFrame1.tail()"
   ]
  },
  {
   "cell_type": "code",
   "execution_count": 3,
   "id": "8f735545",
   "metadata": {},
   "outputs": [
    {
     "name": "stdout",
     "output_type": "stream",
     "text": [
      "DataFrame ==>\n",
      "         İsim  Yas  Maas\n",
      "0      Enes   19  1750\n",
      "1     Alper   20  1700\n",
      "2      Eren   21  1000\n",
      "3    Furkan   19  1250\n",
      "4  Muhammed   19  1400\n",
      "5   Emirhan   22   750\n",
      "6       Ali   18  1500\n"
     ]
    }
   ],
   "source": [
    "print(\"DataFrame ==>\\n \" , DataFrame1)"
   ]
  },
  {
   "cell_type": "code",
   "execution_count": 4,
   "id": "773cbd3c",
   "metadata": {},
   "outputs": [
    {
     "name": "stdout",
     "output_type": "stream",
     "text": [
      "Bastan 5 satir ==>\n",
      "  <bound method NDFrame.head of        İsim  Yas  Maas\n",
      "0      Enes   19  1750\n",
      "1     Alper   20  1700\n",
      "2      Eren   21  1000\n",
      "3    Furkan   19  1250\n",
      "4  Muhammed   19  1400\n",
      "5   Emirhan   22   750\n",
      "6       Ali   18  1500>\n"
     ]
    }
   ],
   "source": [
    "print(\"Bastan 5 satir ==>\\n \" , DataFrame1.head)"
   ]
  },
  {
   "cell_type": "code",
   "execution_count": 5,
   "id": "406c8f2b",
   "metadata": {},
   "outputs": [
    {
     "name": "stdout",
     "output_type": "stream",
     "text": [
      "Sondan 5 satir ==>\n",
      "  <bound method NDFrame.tail of        İsim  Yas  Maas\n",
      "0      Enes   19  1750\n",
      "1     Alper   20  1700\n",
      "2      Eren   21  1000\n",
      "3    Furkan   19  1250\n",
      "4  Muhammed   19  1400\n",
      "5   Emirhan   22   750\n",
      "6       Ali   18  1500>\n"
     ]
    }
   ],
   "source": [
    "print(\"Sondan 5 satir ==>\\n \" , DataFrame1.tail)"
   ]
  },
  {
   "cell_type": "code",
   "execution_count": 6,
   "id": "fec34817",
   "metadata": {},
   "outputs": [
    {
     "name": "stdout",
     "output_type": "stream",
     "text": [
      "Bastan 6 satir ==>\n",
      "         İsim  Yas  Maas\n",
      "0      Enes   19  1750\n",
      "1     Alper   20  1700\n",
      "2      Eren   21  1000\n",
      "3    Furkan   19  1250\n",
      "4  Muhammed   19  1400\n",
      "5   Emirhan   22   750\n"
     ]
    }
   ],
   "source": [
    "print(\"Bastan 6 satir ==>\\n \" , DataFrame1.head(6))"
   ]
  },
  {
   "cell_type": "code",
   "execution_count": 7,
   "id": "99def118",
   "metadata": {},
   "outputs": [
    {
     "name": "stdout",
     "output_type": "stream",
     "text": [
      "Index(['İsim', 'Yas', 'Maas'], dtype='object')\n"
     ]
    }
   ],
   "source": [
    "print(DataFrame1.columns) # sutunlarin isimlerini verir"
   ]
  },
  {
   "cell_type": "code",
   "execution_count": 8,
   "id": "795f17d5",
   "metadata": {},
   "outputs": [
    {
     "name": "stdout",
     "output_type": "stream",
     "text": [
      "<class 'pandas.core.frame.DataFrame'>\n",
      "RangeIndex: 7 entries, 0 to 6\n",
      "Data columns (total 3 columns):\n",
      " #   Column  Non-Null Count  Dtype \n",
      "---  ------  --------------  ----- \n",
      " 0   İsim    7 non-null      object\n",
      " 1   Yas     7 non-null      int64 \n",
      " 2   Maas    7 non-null      int64 \n",
      "dtypes: int64(2), object(1)\n",
      "memory usage: 300.0+ bytes\n",
      "None\n"
     ]
    }
   ],
   "source": [
    "print(DataFrame1.info()) # "
   ]
  },
  {
   "cell_type": "code",
   "execution_count": 9,
   "id": "4deab529",
   "metadata": {},
   "outputs": [
    {
     "name": "stdout",
     "output_type": "stream",
     "text": [
      "İsim    object\n",
      "Yas      int64\n",
      "Maas     int64\n",
      "dtype: object\n"
     ]
    }
   ],
   "source": [
    "print(DataFrame1.dtypes)"
   ]
  },
  {
   "cell_type": "code",
   "execution_count": 10,
   "id": "f72cdb44",
   "metadata": {},
   "outputs": [
    {
     "name": "stdout",
     "output_type": "stream",
     "text": [
      "             Yas         Maas\n",
      "count   7.000000     7.000000\n",
      "mean   19.714286  1335.714286\n",
      "std     1.380131   364.822201\n",
      "min    18.000000   750.000000\n",
      "25%    19.000000  1125.000000\n",
      "50%    19.000000  1400.000000\n",
      "75%    20.500000  1600.000000\n",
      "max    22.000000  1750.000000\n"
     ]
    }
   ],
   "source": [
    "print(DataFrame1.describe())  # numeric feature = columns (age,maas)"
   ]
  }
 ],
 "metadata": {
  "kernelspec": {
   "display_name": "Python 3 (ipykernel)",
   "language": "python",
   "name": "python3"
  },
  "language_info": {
   "codemirror_mode": {
    "name": "ipython",
    "version": 3
   },
   "file_extension": ".py",
   "mimetype": "text/x-python",
   "name": "python",
   "nbconvert_exporter": "python",
   "pygments_lexer": "ipython3",
   "version": "3.11.4"
  }
 },
 "nbformat": 4,
 "nbformat_minor": 5
}
