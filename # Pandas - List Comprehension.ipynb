{
 "cells": [
  {
   "cell_type": "code",
   "execution_count": 1,
   "id": "42f05dc3-9dbd-4d93-95ad-aa997f5e090a",
   "metadata": {
    "tags": []
   },
   "outputs": [],
   "source": [
    "# Pandas - List Comprehension"
   ]
  },
  {
   "cell_type": "code",
   "execution_count": 2,
   "id": "d4a20158-8301-484e-b779-504ce450cfd7",
   "metadata": {
    "tags": []
   },
   "outputs": [],
   "source": [
    "import pandas as pd"
   ]
  },
  {
   "cell_type": "code",
   "execution_count": 3,
   "id": "69147407-fd7a-4d65-96fa-ecdfdc866fa7",
   "metadata": {
    "tags": []
   },
   "outputs": [],
   "source": [
    "dictionary = {\"NAME\":[\"ali\",\"veli\",\"kenan\",\"hilal\",\"ayse\",\"evren\"],\n",
    "              \"AGE\":[15,16,17,33,45,66],\n",
    "              \"MAAS\": [100,150,240,350,110,220]} \n",
    "\n",
    "dataFrame1 = pd.DataFrame(dictionary)"
   ]
  },
  {
   "cell_type": "code",
   "execution_count": 4,
   "id": "1ee93072-3e7e-44a0-81db-52f7158d52ff",
   "metadata": {
    "tags": []
   },
   "outputs": [],
   "source": [
    "dataFrame1[\"yeni feature\"] = [-1 , -2 , -3 , -4 , -5 , -6]"
   ]
  },
  {
   "cell_type": "code",
   "execution_count": 5,
   "id": "c2816d52-9c40-49cf-bf85-57d91358031f",
   "metadata": {
    "tags": []
   },
   "outputs": [],
   "source": [
    "ortalama_maas = dataFrame1.MAAS.mean()"
   ]
  },
  {
   "cell_type": "code",
   "execution_count": 6,
   "id": "bffb077f-5c23-41b2-8188-6a00d722e6aa",
   "metadata": {
    "tags": []
   },
   "outputs": [],
   "source": [
    "dataFrame1[\"Maas_seviyeleri\"] = [ \"yüksektir\" if each > ortalama_maas  else \"düşüktür\" for each in dataFrame1.MAAS]"
   ]
  },
  {
   "cell_type": "code",
   "execution_count": 7,
   "id": "4e71c5af-ea33-4caf-a306-052cb80de970",
   "metadata": {
    "tags": []
   },
   "outputs": [
    {
     "data": {
      "text/plain": [
       "Index(['NAME', 'AGE', 'MAAS', 'yeni feature', 'Maas_seviyeleri'], dtype='object')"
      ]
     },
     "execution_count": 7,
     "metadata": {},
     "output_type": "execute_result"
    }
   ],
   "source": [
    "dataFrame1.columns # sutun başlıklarının isimlerini verir"
   ]
  },
  {
   "cell_type": "code",
   "execution_count": 8,
   "id": "a6fc9ab1-00a9-4f3d-9d26-156fbff28a06",
   "metadata": {
    "tags": []
   },
   "outputs": [],
   "source": [
    "dataFrame1.columns = [ each.lower() for each in dataFrame1.columns] \n",
    "#Out[8]: Index(['name', 'age', 'maas', 'maas_seviyeleri'], dtype='object')"
   ]
  },
  {
   "cell_type": "code",
   "execution_count": 9,
   "id": "b916f1c3-4c45-4b3c-bdb1-369479d4bfc0",
   "metadata": {
    "tags": []
   },
   "outputs": [],
   "source": [
    "dataFrame1.columns = [each.split()[0]+\"_\"+each.split()[1] if(len(each.split())>1) else each for each in dataFrame1.columns]"
   ]
  },
  {
   "cell_type": "code",
   "execution_count": 10,
   "id": "7a005cdb-7cec-42ec-8adb-e1b72015982b",
   "metadata": {
    "tags": []
   },
   "outputs": [],
   "source": [
    "# if => eğer {(each.split) arada boşluk bulunanlari ayri kelime olarak ele alir.}\n",
    "#            ele alinan başlikta bir den fazla kelime var ise demek ki kelimeler arasi boşluk vardır\n",
    "#            each.split()[0] ==> kelimenin 0. indeksini yani ikiye bölünen kelimenin ilk kısmını al (yeni feature ==> yeni ksımı alınır)\n",
    "#            +\"_\" ==> ilk alinan kelime artı _ işareti\n",
    "#            +each.split()[1]  => kelimenin 1. indeksi alınır (yeni feature ==> feature kısmı alinmiş olur)"
   ]
  },
  {
   "cell_type": "code",
   "execution_count": 11,
   "id": "3fd8a18e-fdeb-43a0-8f09-908ac037d507",
   "metadata": {
    "tags": []
   },
   "outputs": [
    {
     "name": "stdout",
     "output_type": "stream",
     "text": [
      "Yeni columns ==> Index(['name', 'age', 'maas', 'yeni_feature', 'maas_seviyeleri'], dtype='object')\n"
     ]
    }
   ],
   "source": [
    "print(\"Yeni columns ==>\" , dataFrame1.columns)\n",
    "# Yeni columns ==> Index(['name', 'age', 'maas', 'maas_seviyeleri', 'yeni_feature'], dtype='object')"
   ]
  }
 ],
 "metadata": {
  "kernelspec": {
   "display_name": "Python 3 (ipykernel)",
   "language": "python",
   "name": "python3"
  },
  "language_info": {
   "codemirror_mode": {
    "name": "ipython",
    "version": 3
   },
   "file_extension": ".py",
   "mimetype": "text/x-python",
   "name": "python",
   "nbconvert_exporter": "python",
   "pygments_lexer": "ipython3",
   "version": "3.11.4"
  }
 },
 "nbformat": 4,
 "nbformat_minor": 5
}
