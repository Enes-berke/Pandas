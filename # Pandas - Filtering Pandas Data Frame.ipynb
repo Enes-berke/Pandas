{
 "cells": [
  {
   "cell_type": "code",
   "execution_count": 9,
   "id": "361d01a6-3bdb-4e3f-bc57-25e90fed480c",
   "metadata": {
    "tags": []
   },
   "outputs": [],
   "source": [
    "# Pandas - Filtering Pandas Data Frame"
   ]
  },
  {
   "cell_type": "code",
   "execution_count": 10,
   "id": "3a94efa5-b1ae-45c8-85c7-cf1e6bfb0263",
   "metadata": {
    "tags": []
   },
   "outputs": [],
   "source": [
    "import pandas as pd"
   ]
  },
  {
   "cell_type": "code",
   "execution_count": 11,
   "id": "148705e1-54d4-485d-b69b-40a0a99143a9",
   "metadata": {
    "tags": []
   },
   "outputs": [],
   "source": [
    "dictionary = {\"NAME\":[\"ali\",\"veli\",\"kenan\",\"hilal\",\"ayse\",\"evren\"],\n",
    "              \"AGE\":[15,16,17,33,45,66],\n",
    "              \"MAAS\": [100,150,240,350,110,220]} \n",
    "\n",
    "dataFrame1 = pd.DataFrame(dictionary)"
   ]
  },
  {
   "cell_type": "code",
   "execution_count": 12,
   "id": "bb821653-1fff-4256-8f15-6c37ed18cc93",
   "metadata": {
    "tags": []
   },
   "outputs": [
    {
     "name": "stdout",
     "output_type": "stream",
     "text": [
      "filtre1 ==>\n",
      " 0    False\n",
      "1    False\n",
      "2     True\n",
      "3     True\n",
      "4    False\n",
      "5     True\n",
      "Name: MAAS, dtype: bool\n"
     ]
    }
   ],
   "source": [
    "filtre1 = dataFrame1.MAAS > 200\n",
    "print(\"filtre1 ==>\\n\" , filtre1)"
   ]
  },
  {
   "cell_type": "code",
   "execution_count": 13,
   "id": "900da74c-bf79-45b1-b31a-338fbc3a1e0a",
   "metadata": {
    "tags": []
   },
   "outputs": [
    {
     "name": "stdout",
     "output_type": "stream",
     "text": [
      "filtrelenmis_data ==>\n",
      "     NAME  AGE  MAAS\n",
      "2  kenan   17   240\n",
      "3  hilal   33   350\n",
      "5  evren   66   220\n"
     ]
    }
   ],
   "source": [
    "filtrelenmis_data = dataFrame1[filtre1]\n",
    "print(\"filtrelenmis_data ==>\\n\" , filtrelenmis_data)"
   ]
  },
  {
   "cell_type": "code",
   "execution_count": 14,
   "id": "f05eaf17-15f1-48e9-a448-95a083decbd4",
   "metadata": {
    "tags": []
   },
   "outputs": [],
   "source": [
    "filtre2 = dataFrame1.AGE <20"
   ]
  },
  {
   "cell_type": "code",
   "execution_count": 15,
   "id": "265085c5-d9b0-4787-8e88-3b7ad6013319",
   "metadata": {
    "tags": []
   },
   "outputs": [
    {
     "data": {
      "text/html": [
       "<div>\n",
       "<style scoped>\n",
       "    .dataframe tbody tr th:only-of-type {\n",
       "        vertical-align: middle;\n",
       "    }\n",
       "\n",
       "    .dataframe tbody tr th {\n",
       "        vertical-align: top;\n",
       "    }\n",
       "\n",
       "    .dataframe thead th {\n",
       "        text-align: right;\n",
       "    }\n",
       "</style>\n",
       "<table border=\"1\" class=\"dataframe\">\n",
       "  <thead>\n",
       "    <tr style=\"text-align: right;\">\n",
       "      <th></th>\n",
       "      <th>NAME</th>\n",
       "      <th>AGE</th>\n",
       "      <th>MAAS</th>\n",
       "    </tr>\n",
       "  </thead>\n",
       "  <tbody>\n",
       "    <tr>\n",
       "      <th>2</th>\n",
       "      <td>kenan</td>\n",
       "      <td>17</td>\n",
       "      <td>240</td>\n",
       "    </tr>\n",
       "  </tbody>\n",
       "</table>\n",
       "</div>"
      ],
      "text/plain": [
       "    NAME  AGE  MAAS\n",
       "2  kenan   17   240"
      ]
     },
     "execution_count": 15,
     "metadata": {},
     "output_type": "execute_result"
    }
   ],
   "source": [
    "dataFrame1[filtre1 & filtre2] # iki filtreyi birleştirme"
   ]
  },
  {
   "cell_type": "code",
   "execution_count": 16,
   "id": "7f049938-9fb7-4518-bde1-2d34a8f011fa",
   "metadata": {
    "tags": []
   },
   "outputs": [
    {
     "name": "stdout",
     "output_type": "stream",
     "text": [
      "    NAME  AGE  MAAS\n",
      "5  evren   66   220\n"
     ]
    }
   ],
   "source": [
    "print(dataFrame1[dataFrame1.AGE > 60])"
   ]
  }
 ],
 "metadata": {
  "kernelspec": {
   "display_name": "Python 3 (ipykernel)",
   "language": "python",
   "name": "python3"
  },
  "language_info": {
   "codemirror_mode": {
    "name": "ipython",
    "version": 3
   },
   "file_extension": ".py",
   "mimetype": "text/x-python",
   "name": "python",
   "nbconvert_exporter": "python",
   "pygments_lexer": "ipython3",
   "version": "3.11.4"
  }
 },
 "nbformat": 4,
 "nbformat_minor": 5
}
