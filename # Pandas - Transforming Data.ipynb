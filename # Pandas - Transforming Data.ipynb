{
 "cells": [
  {
   "cell_type": "code",
   "execution_count": 1,
   "id": "fcd016dd-a5b8-4265-8d0b-b190a49965b6",
   "metadata": {
    "tags": []
   },
   "outputs": [],
   "source": [
    "# Pandas - Transforming Data"
   ]
  },
  {
   "cell_type": "code",
   "execution_count": 2,
   "id": "9319a33a-2964-48e4-82c2-4b424ee76d6e",
   "metadata": {
    "tags": []
   },
   "outputs": [],
   "source": [
    "import pandas as pd"
   ]
  },
  {
   "cell_type": "code",
   "execution_count": 3,
   "id": "6abe45d7-8a1c-4ee9-94f6-994e0e20e0d3",
   "metadata": {
    "tags": []
   },
   "outputs": [],
   "source": [
    "dictionary = {\"NAME\":[\"ali\",\"veli\",\"kenan\",\"hilal\",\"ayse\",\"evren\"],\n",
    "              \"AGE\":[15,16,17,33,45,66],\n",
    "              \"MAAS\": [100,150,240,350,110,220]} \n",
    "\n",
    "dataFrame1 = pd.DataFrame(dictionary)"
   ]
  },
  {
   "cell_type": "code",
   "execution_count": 4,
   "id": "cd0e0ba2-ddd4-4527-8730-1a8c7065c435",
   "metadata": {
    "tags": []
   },
   "outputs": [],
   "source": [
    "dataFrame1[\"yeni feature\"] = [-1 , -2 , -3 , -4 , -5 , -6]"
   ]
  },
  {
   "cell_type": "code",
   "execution_count": 5,
   "id": "a4a7724a-3388-45c3-8de1-5bfd51cf36cc",
   "metadata": {
    "tags": []
   },
   "outputs": [
    {
     "name": "stdout",
     "output_type": "stream",
     "text": [
      "Yeni columns ==>\n",
      "     NAME  AGE  MAAS  yeni feature  list_comp\n",
      "0    ali   15   100            -1         30\n",
      "1   veli   16   150            -2         32\n",
      "2  kenan   17   240            -3         34\n",
      "3  hilal   33   350            -4         66\n",
      "4   ayse   45   110            -5         90\n",
      "5  evren   66   220            -6        132\n"
     ]
    }
   ],
   "source": [
    "dataFrame1[\"list_comp\"] = [ each*2 for each in dataFrame1.AGE] # yaşlari kullanarak yeni bir columns oluşturmak istiyoruz\n",
    "print(\"Yeni columns ==>\\n\" , dataFrame1)"
   ]
  },
  {
   "cell_type": "code",
   "execution_count": 6,
   "id": "e4296941-6ae4-4c62-8781-1e487677bd79",
   "metadata": {
    "tags": []
   },
   "outputs": [],
   "source": [
    "def fonk(AGE):\n",
    "    return AGE*2\n",
    "    \n",
    "dataFrame1[\"apply_metodu\"] = dataFrame1.AGE.apply(fonk)"
   ]
  },
  {
   "cell_type": "code",
   "execution_count": null,
   "id": "9f70b9b0-565d-4e42-bd5b-d8dc4a2ae275",
   "metadata": {},
   "outputs": [],
   "source": [
    "#     NAME  AGE  MAAS  yeni feature  list_comp  apply_metodu\n",
    "# 0    ali   15   100            -1         30            30\n",
    "# 1   veli   16   150            -2         32            32\n",
    "# 2  kenan   17   240            -3         34            34\n",
    "# 3  hilal   33   350            -4         66            66\n",
    "# 4   ayse   45   110            -5         90            90\n",
    "# 5  evren   66   220            -6        132           132"
   ]
  }
 ],
 "metadata": {
  "kernelspec": {
   "display_name": "Python 3 (ipykernel)",
   "language": "python",
   "name": "python3"
  },
  "language_info": {
   "codemirror_mode": {
    "name": "ipython",
    "version": 3
   },
   "file_extension": ".py",
   "mimetype": "text/x-python",
   "name": "python",
   "nbconvert_exporter": "python",
   "pygments_lexer": "ipython3",
   "version": "3.11.4"
  }
 },
 "nbformat": 4,
 "nbformat_minor": 5
}
