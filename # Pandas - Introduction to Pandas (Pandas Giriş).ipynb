{
 "cells": [
  {
   "cell_type": "code",
   "execution_count": null,
   "id": "512d78af-a597-40e3-b4bd-36d4f1bbc68b",
   "metadata": {},
   "outputs": [],
   "source": [
    "# Pandas - Introduction to Pandas (Pandas Giriş)"
   ]
  },
  {
   "cell_type": "code",
   "execution_count": null,
   "id": "864a7b35-3390-45c5-89cb-5aa198ef4f9d",
   "metadata": {},
   "outputs": [],
   "source": [
    "# pip show numpy\n",
    "# pip show pandas - bu komutlar ile kütüphane bilgisayara kurulu mu ögrenilebilir."
   ]
  },
  {
   "cell_type": "code",
   "execution_count": 1,
   "id": "4315bdc4-ed8c-4a66-9c2c-6c2de5913d23",
   "metadata": {
    "tags": []
   },
   "outputs": [],
   "source": [
    "import pandas as pd"
   ]
  },
  {
   "cell_type": "code",
   "execution_count": 2,
   "id": "a6779dae-f635-490c-be75-ee6ca176b8e2",
   "metadata": {
    "tags": []
   },
   "outputs": [],
   "source": [
    "dictionary = {\"İsim\" : (\"Enes\" , \"Alper\" , \"Eren\" , \"Furkan\" , \"Muhammed\" , \"Emirhan\" , \"Ali\"),\n",
    "              \"Yas\" :(19 , 20 , 21 , 19 , 19 , 22 , 18),\n",
    "               \"Maas\" : (1750 , 1700 , 1000 , 1250 , 1400 , 750 , 1500) }\n",
    "\n",
    "DataFrame1 = pd.DataFrame(dictionary)"
   ]
  },
  {
   "cell_type": "code",
   "execution_count": 3,
   "id": "a62f3905-bd4b-45b2-8428-11d6ec5f9887",
   "metadata": {
    "tags": []
   },
   "outputs": [],
   "source": [
    "head = DataFrame1.head()\n",
    "tail = DataFrame1.tail()"
   ]
  },
  {
   "cell_type": "code",
   "execution_count": 4,
   "id": "0a27dbe5-6a1a-4577-94be-27b8d2ff4d7b",
   "metadata": {
    "tags": []
   },
   "outputs": [
    {
     "name": "stdout",
     "output_type": "stream",
     "text": [
      "DataFrame ==>\n",
      "         İsim  Yas  Maas\n",
      "0      Enes   19  1750\n",
      "1     Alper   20  1700\n",
      "2      Eren   21  1000\n",
      "3    Furkan   19  1250\n",
      "4  Muhammed   19  1400\n",
      "5   Emirhan   22   750\n",
      "6       Ali   18  1500\n"
     ]
    }
   ],
   "source": [
    "print(\"DataFrame ==>\\n \" , DataFrame1)"
   ]
  },
  {
   "cell_type": "code",
   "execution_count": 5,
   "id": "c4f12a41-f16b-4a2d-b39b-ab44f8c51f06",
   "metadata": {
    "tags": []
   },
   "outputs": [
    {
     "name": "stdout",
     "output_type": "stream",
     "text": [
      "Bastan 5 satir ==>\n",
      "  <bound method NDFrame.head of        İsim  Yas  Maas\n",
      "0      Enes   19  1750\n",
      "1     Alper   20  1700\n",
      "2      Eren   21  1000\n",
      "3    Furkan   19  1250\n",
      "4  Muhammed   19  1400\n",
      "5   Emirhan   22   750\n",
      "6       Ali   18  1500>\n"
     ]
    }
   ],
   "source": [
    "print(\"Bastan 5 satir ==>\\n \" , DataFrame1.head)"
   ]
  },
  {
   "cell_type": "code",
   "execution_count": 6,
   "id": "46053421-79c7-43cd-b135-6f36a17df9f4",
   "metadata": {
    "tags": []
   },
   "outputs": [
    {
     "name": "stdout",
     "output_type": "stream",
     "text": [
      "Sondan 5 satir ==>\n",
      "  <bound method NDFrame.tail of        İsim  Yas  Maas\n",
      "0      Enes   19  1750\n",
      "1     Alper   20  1700\n",
      "2      Eren   21  1000\n",
      "3    Furkan   19  1250\n",
      "4  Muhammed   19  1400\n",
      "5   Emirhan   22   750\n",
      "6       Ali   18  1500>\n"
     ]
    }
   ],
   "source": [
    "print(\"Sondan 5 satir ==>\\n \" , DataFrame1.tail)"
   ]
  },
  {
   "cell_type": "code",
   "execution_count": 7,
   "id": "727b4bef-6e03-4745-beb2-b83d543f45f0",
   "metadata": {
    "tags": []
   },
   "outputs": [
    {
     "name": "stdout",
     "output_type": "stream",
     "text": [
      "Bastan 6 satir ==>\n",
      "         İsim  Yas  Maas\n",
      "0      Enes   19  1750\n",
      "1     Alper   20  1700\n",
      "2      Eren   21  1000\n",
      "3    Furkan   19  1250\n",
      "4  Muhammed   19  1400\n",
      "5   Emirhan   22   750\n"
     ]
    }
   ],
   "source": [
    "print(\"Bastan 6 satir ==>\\n \" , DataFrame1.head(6))"
   ]
  },
  {
   "cell_type": "code",
   "execution_count": null,
   "id": "f8fe8f23-3b78-4728-805a-1af564b2abf2",
   "metadata": {},
   "outputs": [],
   "source": []
  }
 ],
 "metadata": {
  "kernelspec": {
   "display_name": "Python 3 (ipykernel)",
   "language": "python",
   "name": "python3"
  },
  "language_info": {
   "codemirror_mode": {
    "name": "ipython",
    "version": 3
   },
   "file_extension": ".py",
   "mimetype": "text/x-python",
   "name": "python",
   "nbconvert_exporter": "python",
   "pygments_lexer": "ipython3",
   "version": "3.11.4"
  }
 },
 "nbformat": 4,
 "nbformat_minor": 5
}
