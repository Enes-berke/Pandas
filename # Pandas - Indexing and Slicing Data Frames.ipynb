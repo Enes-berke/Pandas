{
 "cells": [
  {
   "cell_type": "code",
   "execution_count": null,
   "id": "584b840f-7b3f-49f2-8e9c-e68c4313ebb8",
   "metadata": {},
   "outputs": [],
   "source": [
    "# Pandas - Indexing and Slicing Data Frames"
   ]
  },
  {
   "cell_type": "code",
   "execution_count": null,
   "id": "040cc7bd-0282-45a8-885a-d907459a8082",
   "metadata": {},
   "outputs": [],
   "source": [
    "import pandas as pd"
   ]
  },
  {
   "cell_type": "code",
   "execution_count": null,
   "id": "8755520a-f551-4890-8698-51040f11c563",
   "metadata": {},
   "outputs": [],
   "source": [
    "dictionary = {\"İsim\" : (\"Enes\" , \"Alper\" , \"Eren\" , \"Furkan\" , \"Muhammed\" , \"Emirhan\" , \"Ali\"),\n",
    "              \"Yas\" :(19 , 20 , 21 , 19 , 19 , 22 , 18),\n",
    "               \"Maas\" : (1750 , 1700 , 1000 , 1250 , 1400 , 750 , 1500) }\n",
    "\n",
    "dataFrame1 = pd.DataFrame(dictionary)"
   ]
  },
  {
   "cell_type": "code",
   "execution_count": null,
   "id": "05b39ebe-5748-48a2-aa2e-6cce875bc726",
   "metadata": {},
   "outputs": [],
   "source": [
    "print(dataFrame1[\"Yas\"])"
   ]
  },
  {
   "cell_type": "code",
   "execution_count": null,
   "id": "39b8d781-f228-46d8-9ce2-9fb7091ad9e7",
   "metadata": {},
   "outputs": [],
   "source": [
    "print(dataFrame1.Yas)"
   ]
  },
  {
   "cell_type": "code",
   "execution_count": null,
   "id": "3d8960e1-e01f-4ea2-b8ff-cd8a933dfd26",
   "metadata": {},
   "outputs": [],
   "source": [
    "dataFrame1[\"yeni_feature\"] = [-1,-2,-3,-4,-5,-6,-7]\n",
    "# ValueError: Length of values (6) does not match length of index (7)\n",
    "# eklediginiz yeni feature ile dataframe satır sayıları eşit olmak zorundadir"
   ]
  },
  {
   "cell_type": "code",
   "execution_count": null,
   "id": "dc53cb19-771e-4b4f-ae0e-435099e2bf09",
   "metadata": {},
   "outputs": [],
   "source": [
    "print(dataFrame1.yeni_feature)"
   ]
  },
  {
   "cell_type": "code",
   "execution_count": null,
   "id": "bac662d1-ed0b-45e5-ab4d-00ec6fed3d6e",
   "metadata": {},
   "outputs": [],
   "source": [
    "print(dataFrame1.loc[:, \"Yas\"]) # 1 den son satira kadar yaş sutunun yazdir"
   ]
  },
  {
   "cell_type": "code",
   "execution_count": null,
   "id": "86abf838-fb87-417d-988d-fa15bbfc190f",
   "metadata": {},
   "outputs": [],
   "source": [
    "print(dataFrame1.loc[:3, \"Yas\"]) # 1. satirdan 3. satira kadar yaslari yazdir\n",
    "# pandas = > [1:5] 1 ve 5 degerleri dahildir !!"
   ]
  },
  {
   "cell_type": "code",
   "execution_count": null,
   "id": "fa0b2ed3-da2d-4d71-a76a-2d5b742e5f44",
   "metadata": {},
   "outputs": [],
   "source": [
    "print(dataFrame1.loc[:3, \"İsim\":\"Maas\"]) # yazdiginiz başliklerin sirasi önemlidir dikkat ediniz !!!"
   ]
  },
  {
   "cell_type": "code",
   "execution_count": null,
   "id": "77b3bcc2-1531-4118-8aa6-c4c015d02c19",
   "metadata": {},
   "outputs": [],
   "source": [
    "print(dataFrame1.loc[:3, [\"Yas\",\"İsim\"]])"
   ]
  },
  {
   "cell_type": "code",
   "execution_count": null,
   "id": "591ee57c-411a-40a0-a47d-0b14e473bc10",
   "metadata": {},
   "outputs": [],
   "source": [
    "print(dataFrame1.loc[::-1,:]) # satirlari tersten yazdir"
   ]
  },
  {
   "cell_type": "code",
   "execution_count": null,
   "id": "0790d58b-0a0d-4e7c-be28-b70a67ce376c",
   "metadata": {},
   "outputs": [],
   "source": [
    "print(dataFrame1.loc[::-1,::-1]) # satirlari ve sutunlari tersten yazdir"
   ]
  },
  {
   "cell_type": "code",
   "execution_count": null,
   "id": "453698da-5e1c-47d0-9fbf-7a72dd8bbc70",
   "metadata": {},
   "outputs": [],
   "source": [
    "print(dataFrame1.loc[:,:\"Yas\"]) # ilk satirdan son satira kadar  - ilk sutundan Yas sutununa kadar"
   ]
  },
  {
   "cell_type": "code",
   "execution_count": null,
   "id": "8fd3d466-05dc-4bb0-89ed-f58f023d3936",
   "metadata": {},
   "outputs": [],
   "source": [
    "print(dataFrame1.loc[:,\"İsim\"])"
   ]
  },
  {
   "cell_type": "code",
   "execution_count": null,
   "id": "1f846ac5-d593-425a-8c81-5c3dab33a60d",
   "metadata": {},
   "outputs": [],
   "source": [
    "print(dataFrame1.iloc[:,2]) # butun satirlar index 2 olan sutun"
   ]
  },
  {
   "cell_type": "code",
   "execution_count": null,
   "id": "3da266e1-419e-4ae2-aa86-6cfb828b1499",
   "metadata": {},
   "outputs": [],
   "source": [
    "# loc = location\n",
    "# iloc = integer location"
   ]
  }
 ],
 "metadata": {
  "kernelspec": {
   "display_name": "Python 3 (ipykernel)",
   "language": "python",
   "name": "python3"
  },
  "language_info": {
   "codemirror_mode": {
    "name": "ipython",
    "version": 3
   },
   "file_extension": ".py",
   "mimetype": "text/x-python",
   "name": "python",
   "nbconvert_exporter": "python",
   "pygments_lexer": "ipython3",
   "version": "3.11.4"
  }
 },
 "nbformat": 4,
 "nbformat_minor": 5
}
